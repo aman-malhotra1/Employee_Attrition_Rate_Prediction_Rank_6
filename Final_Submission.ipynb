{
 "cells": [
  {
   "cell_type": "code",
   "execution_count": 129,
   "metadata": {},
   "outputs": [],
   "source": [
    "# Importing Libraries\n",
    "import numpy as np\n",
    "import pandas as pd\n",
    "import matplotlib.pyplot as plt\n",
    "import seaborn as sns\n",
    "%matplotlib inline\n",
    "pd.options.display.max_columns = None"
   ]
  },
  {
   "cell_type": "code",
   "execution_count": 130,
   "metadata": {},
   "outputs": [
    {
     "data": {
      "text/html": [
       "<div>\n",
       "<style scoped>\n",
       "    .dataframe tbody tr th:only-of-type {\n",
       "        vertical-align: middle;\n",
       "    }\n",
       "\n",
       "    .dataframe tbody tr th {\n",
       "        vertical-align: top;\n",
       "    }\n",
       "\n",
       "    .dataframe thead th {\n",
       "        text-align: right;\n",
       "    }\n",
       "</style>\n",
       "<table border=\"1\" class=\"dataframe\">\n",
       "  <thead>\n",
       "    <tr style=\"text-align: right;\">\n",
       "      <th></th>\n",
       "      <th>Employee_ID</th>\n",
       "      <th>Gender</th>\n",
       "      <th>Age</th>\n",
       "      <th>Education_Level</th>\n",
       "      <th>Relationship_Status</th>\n",
       "      <th>Hometown</th>\n",
       "      <th>Unit</th>\n",
       "      <th>Decision_skill_possess</th>\n",
       "      <th>Time_of_service</th>\n",
       "      <th>Time_since_promotion</th>\n",
       "      <th>growth_rate</th>\n",
       "      <th>Travel_Rate</th>\n",
       "      <th>Post_Level</th>\n",
       "      <th>Pay_Scale</th>\n",
       "      <th>Compensation_and_Benefits</th>\n",
       "      <th>Work_Life_balance</th>\n",
       "      <th>VAR1</th>\n",
       "      <th>VAR2</th>\n",
       "      <th>VAR3</th>\n",
       "      <th>VAR4</th>\n",
       "      <th>VAR5</th>\n",
       "      <th>VAR6</th>\n",
       "      <th>VAR7</th>\n",
       "      <th>Attrition_rate</th>\n",
       "    </tr>\n",
       "  </thead>\n",
       "  <tbody>\n",
       "    <tr>\n",
       "      <td>0</td>\n",
       "      <td>EID_23371</td>\n",
       "      <td>F</td>\n",
       "      <td>42.0</td>\n",
       "      <td>4</td>\n",
       "      <td>Married</td>\n",
       "      <td>Franklin</td>\n",
       "      <td>IT</td>\n",
       "      <td>Conceptual</td>\n",
       "      <td>4.0</td>\n",
       "      <td>4</td>\n",
       "      <td>33</td>\n",
       "      <td>1</td>\n",
       "      <td>1</td>\n",
       "      <td>7.0</td>\n",
       "      <td>type2</td>\n",
       "      <td>3.0</td>\n",
       "      <td>4</td>\n",
       "      <td>0.7516</td>\n",
       "      <td>1.8688</td>\n",
       "      <td>2.0</td>\n",
       "      <td>4</td>\n",
       "      <td>5</td>\n",
       "      <td>3</td>\n",
       "      <td>0.1841</td>\n",
       "    </tr>\n",
       "    <tr>\n",
       "      <td>1</td>\n",
       "      <td>EID_18000</td>\n",
       "      <td>M</td>\n",
       "      <td>24.0</td>\n",
       "      <td>3</td>\n",
       "      <td>Single</td>\n",
       "      <td>Springfield</td>\n",
       "      <td>Logistics</td>\n",
       "      <td>Analytical</td>\n",
       "      <td>5.0</td>\n",
       "      <td>4</td>\n",
       "      <td>36</td>\n",
       "      <td>0</td>\n",
       "      <td>3</td>\n",
       "      <td>6.0</td>\n",
       "      <td>type2</td>\n",
       "      <td>4.0</td>\n",
       "      <td>3</td>\n",
       "      <td>-0.9612</td>\n",
       "      <td>-0.4537</td>\n",
       "      <td>2.0</td>\n",
       "      <td>3</td>\n",
       "      <td>5</td>\n",
       "      <td>3</td>\n",
       "      <td>0.0670</td>\n",
       "    </tr>\n",
       "    <tr>\n",
       "      <td>2</td>\n",
       "      <td>EID_3891</td>\n",
       "      <td>F</td>\n",
       "      <td>58.0</td>\n",
       "      <td>3</td>\n",
       "      <td>Married</td>\n",
       "      <td>Clinton</td>\n",
       "      <td>Quality</td>\n",
       "      <td>Conceptual</td>\n",
       "      <td>27.0</td>\n",
       "      <td>3</td>\n",
       "      <td>51</td>\n",
       "      <td>0</td>\n",
       "      <td>2</td>\n",
       "      <td>8.0</td>\n",
       "      <td>type2</td>\n",
       "      <td>1.0</td>\n",
       "      <td>4</td>\n",
       "      <td>-0.9612</td>\n",
       "      <td>-0.4537</td>\n",
       "      <td>3.0</td>\n",
       "      <td>3</td>\n",
       "      <td>8</td>\n",
       "      <td>3</td>\n",
       "      <td>0.0851</td>\n",
       "    </tr>\n",
       "    <tr>\n",
       "      <td>3</td>\n",
       "      <td>EID_17492</td>\n",
       "      <td>F</td>\n",
       "      <td>26.0</td>\n",
       "      <td>3</td>\n",
       "      <td>Single</td>\n",
       "      <td>Lebanon</td>\n",
       "      <td>Human Resource Management</td>\n",
       "      <td>Behavioral</td>\n",
       "      <td>4.0</td>\n",
       "      <td>3</td>\n",
       "      <td>56</td>\n",
       "      <td>1</td>\n",
       "      <td>3</td>\n",
       "      <td>8.0</td>\n",
       "      <td>type2</td>\n",
       "      <td>1.0</td>\n",
       "      <td>3</td>\n",
       "      <td>-1.8176</td>\n",
       "      <td>-0.4537</td>\n",
       "      <td>NaN</td>\n",
       "      <td>3</td>\n",
       "      <td>7</td>\n",
       "      <td>3</td>\n",
       "      <td>0.0668</td>\n",
       "    </tr>\n",
       "    <tr>\n",
       "      <td>4</td>\n",
       "      <td>EID_22534</td>\n",
       "      <td>F</td>\n",
       "      <td>31.0</td>\n",
       "      <td>1</td>\n",
       "      <td>Married</td>\n",
       "      <td>Springfield</td>\n",
       "      <td>Logistics</td>\n",
       "      <td>Conceptual</td>\n",
       "      <td>5.0</td>\n",
       "      <td>4</td>\n",
       "      <td>62</td>\n",
       "      <td>1</td>\n",
       "      <td>3</td>\n",
       "      <td>2.0</td>\n",
       "      <td>type3</td>\n",
       "      <td>3.0</td>\n",
       "      <td>1</td>\n",
       "      <td>0.7516</td>\n",
       "      <td>-0.4537</td>\n",
       "      <td>2.0</td>\n",
       "      <td>2</td>\n",
       "      <td>8</td>\n",
       "      <td>2</td>\n",
       "      <td>0.1827</td>\n",
       "    </tr>\n",
       "  </tbody>\n",
       "</table>\n",
       "</div>"
      ],
      "text/plain": [
       "  Employee_ID Gender   Age  Education_Level Relationship_Status     Hometown  \\\n",
       "0   EID_23371      F  42.0                4             Married     Franklin   \n",
       "1   EID_18000      M  24.0                3              Single  Springfield   \n",
       "2    EID_3891      F  58.0                3             Married      Clinton   \n",
       "3   EID_17492      F  26.0                3              Single      Lebanon   \n",
       "4   EID_22534      F  31.0                1             Married  Springfield   \n",
       "\n",
       "                        Unit Decision_skill_possess  Time_of_service  \\\n",
       "0                         IT             Conceptual              4.0   \n",
       "1                  Logistics             Analytical              5.0   \n",
       "2                    Quality             Conceptual             27.0   \n",
       "3  Human Resource Management             Behavioral              4.0   \n",
       "4                  Logistics             Conceptual              5.0   \n",
       "\n",
       "   Time_since_promotion  growth_rate  Travel_Rate  Post_Level  Pay_Scale  \\\n",
       "0                     4           33            1           1        7.0   \n",
       "1                     4           36            0           3        6.0   \n",
       "2                     3           51            0           2        8.0   \n",
       "3                     3           56            1           3        8.0   \n",
       "4                     4           62            1           3        2.0   \n",
       "\n",
       "  Compensation_and_Benefits  Work_Life_balance  VAR1    VAR2    VAR3  VAR4  \\\n",
       "0                     type2                3.0     4  0.7516  1.8688   2.0   \n",
       "1                     type2                4.0     3 -0.9612 -0.4537   2.0   \n",
       "2                     type2                1.0     4 -0.9612 -0.4537   3.0   \n",
       "3                     type2                1.0     3 -1.8176 -0.4537   NaN   \n",
       "4                     type3                3.0     1  0.7516 -0.4537   2.0   \n",
       "\n",
       "   VAR5  VAR6  VAR7  Attrition_rate  \n",
       "0     4     5     3          0.1841  \n",
       "1     3     5     3          0.0670  \n",
       "2     3     8     3          0.0851  \n",
       "3     3     7     3          0.0668  \n",
       "4     2     8     2          0.1827  "
      ]
     },
     "execution_count": 130,
     "metadata": {},
     "output_type": "execute_result"
    }
   ],
   "source": [
    "# Imporing the data\n",
    "train_data = pd.read_csv(\"Train.csv\")\n",
    "test_data = pd.read_csv(\"Test.csv\")\n",
    "train_data.head()"
   ]
  },
  {
   "cell_type": "code",
   "execution_count": 131,
   "metadata": {},
   "outputs": [],
   "source": [
    "# Creating a copy of train and test data\n",
    "train_data_copy = train_data.copy()\n",
    "test_data_copy = test_data.copy()"
   ]
  },
  {
   "cell_type": "markdown",
   "metadata": {},
   "source": [
    "### Continuous variable"
   ]
  },
  {
   "cell_type": "markdown",
   "metadata": {},
   "source": [
    "Time_of_service - > Number of Years in the organization\n",
    "\n",
    "Age -> Age of the Employee(in Years)\n",
    "\n",
    "Growth_Rate-> Growth rate in percentage of an employee"
   ]
  },
  {
   "cell_type": "markdown",
   "metadata": {},
   "source": [
    "### Binary Variables"
   ]
  },
  {
   "cell_type": "markdown",
   "metadata": {},
   "source": [
    "Gender -> M for Male and F for Female\n",
    "\n",
    "Relationship_Status -> Single or Married"
   ]
  },
  {
   "cell_type": "markdown",
   "metadata": {},
   "source": [
    "### Ordinal Variables"
   ]
  },
  {
   "cell_type": "markdown",
   "metadata": {},
   "source": [
    "Education_Level -> Rating of Qualification of an employee (1-5)\n",
    "\n",
    "Travel_Rate\t-> Rating based on travel history(1-3)\n",
    "\n",
    "Post_Level-> Level of the post in an organization (1-5)\n",
    "\n",
    "Pay_Scale-> Rate in between 1 to 10\n",
    "\n",
    "Work_Life_balance-> Rating for work-life balance given by an employee."
   ]
  },
  {
   "cell_type": "markdown",
   "metadata": {},
   "source": [
    "### Nominal Variable"
   ]
  },
  {
   "cell_type": "markdown",
   "metadata": {},
   "source": [
    "HomeTown -> Name of the employee's HomeTown\n",
    "\n",
    "Units -> Department under which the employee work\n",
    "\n",
    "Decision_skill_possess-> Decision skill that an employee possesses\n",
    "\n",
    "Compensation_and_Benefits -> Category from Type_0 to Type_4\n",
    "\n",
    "Employee_ID -> Unique ID of each employee"
   ]
  },
  {
   "cell_type": "markdown",
   "metadata": {},
   "source": [
    "### Others"
   ]
  },
  {
   "cell_type": "markdown",
   "metadata": {},
   "source": [
    "VAR1 - VAR7\t -> Anonymized variables"
   ]
  },
  {
   "cell_type": "markdown",
   "metadata": {},
   "source": [
    "### Target variable"
   ]
  },
  {
   "cell_type": "markdown",
   "metadata": {},
   "source": [
    "Attrition_rate -> Attrition rate of each employee"
   ]
  },
  {
   "cell_type": "code",
   "execution_count": 132,
   "metadata": {},
   "outputs": [
    {
     "name": "stdout",
     "output_type": "stream",
     "text": [
      "(7000, 24)\n",
      "(3000, 23)\n"
     ]
    }
   ],
   "source": [
    "print(train_data.shape)\n",
    "print(test_data.shape)"
   ]
  },
  {
   "cell_type": "markdown",
   "metadata": {},
   "source": [
    "In training dataset we have 7000 records and 24 column out of which Attrition_rate is our target feature and rest are independent features. In test data we have 3000 records with 23 independent features."
   ]
  },
  {
   "cell_type": "code",
   "execution_count": 133,
   "metadata": {},
   "outputs": [
    {
     "data": {
      "text/plain": [
       "VAR4                         656\n",
       "VAR2                         577\n",
       "Age                          412\n",
       "Time_of_service              144\n",
       "Work_Life_balance             11\n",
       "Pay_Scale                      9\n",
       "Attrition_rate                 0\n",
       "Time_since_promotion           0\n",
       "Gender                         0\n",
       "Education_Level                0\n",
       "Relationship_Status            0\n",
       "Hometown                       0\n",
       "Unit                           0\n",
       "Decision_skill_possess         0\n",
       "Travel_Rate                    0\n",
       "growth_rate                    0\n",
       "VAR7                           0\n",
       "Post_Level                     0\n",
       "Compensation_and_Benefits      0\n",
       "VAR1                           0\n",
       "VAR3                           0\n",
       "VAR5                           0\n",
       "VAR6                           0\n",
       "Employee_ID                    0\n",
       "dtype: int64"
      ]
     },
     "execution_count": 133,
     "metadata": {},
     "output_type": "execute_result"
    }
   ],
   "source": [
    "# Checking null values in the training dataset\n",
    "train_data.isnull().sum().sort_values(ascending =False)"
   ]
  },
  {
   "cell_type": "markdown",
   "metadata": {},
   "source": [
    "Age has 412 null values , Time_of_service has 144 null values , Work_life_balance has 11 null values , Pay_scale has 9 null values , VAR2 ahs 577 null values and VAR4 has 656 null values"
   ]
  },
  {
   "cell_type": "code",
   "execution_count": 134,
   "metadata": {},
   "outputs": [
    {
     "data": {
      "text/plain": [
       "VAR4                         298\n",
       "VAR2                         217\n",
       "Age                          161\n",
       "Time_of_service               52\n",
       "Work_Life_balance              5\n",
       "Pay_Scale                      3\n",
       "VAR7                           0\n",
       "Gender                         0\n",
       "Education_Level                0\n",
       "Relationship_Status            0\n",
       "Hometown                       0\n",
       "Unit                           0\n",
       "Decision_skill_possess         0\n",
       "Travel_Rate                    0\n",
       "Time_since_promotion           0\n",
       "growth_rate                    0\n",
       "VAR6                           0\n",
       "Post_Level                     0\n",
       "Compensation_and_Benefits      0\n",
       "VAR1                           0\n",
       "VAR3                           0\n",
       "VAR5                           0\n",
       "Employee_ID                    0\n",
       "dtype: int64"
      ]
     },
     "execution_count": 134,
     "metadata": {},
     "output_type": "execute_result"
    }
   ],
   "source": [
    "# Checking null values in the test dataset\n",
    "test_data.isnull().sum().sort_values(ascending =False)"
   ]
  },
  {
   "cell_type": "markdown",
   "metadata": {},
   "source": [
    "Age has 161 null values , Time_of_service has 52 null values , Work_life_balance has 5 null values , Pay_scale has 3 null values , VAR2 ahs 217 null values and VAR4 has 298 null values"
   ]
  },
  {
   "cell_type": "code",
   "execution_count": 135,
   "metadata": {},
   "outputs": [
    {
     "data": {
      "text/html": [
       "<div>\n",
       "<style scoped>\n",
       "    .dataframe tbody tr th:only-of-type {\n",
       "        vertical-align: middle;\n",
       "    }\n",
       "\n",
       "    .dataframe tbody tr th {\n",
       "        vertical-align: top;\n",
       "    }\n",
       "\n",
       "    .dataframe thead th {\n",
       "        text-align: right;\n",
       "    }\n",
       "</style>\n",
       "<table border=\"1\" class=\"dataframe\">\n",
       "  <thead>\n",
       "    <tr style=\"text-align: right;\">\n",
       "      <th></th>\n",
       "      <th>Age</th>\n",
       "      <th>Time_of_service</th>\n",
       "      <th>growth_rate</th>\n",
       "      <th>Attrition_rate</th>\n",
       "    </tr>\n",
       "  </thead>\n",
       "  <tbody>\n",
       "    <tr>\n",
       "      <td>Age</td>\n",
       "      <td>1.000000</td>\n",
       "      <td>0.918853</td>\n",
       "      <td>0.001270</td>\n",
       "      <td>-0.015498</td>\n",
       "    </tr>\n",
       "    <tr>\n",
       "      <td>Time_of_service</td>\n",
       "      <td>0.918853</td>\n",
       "      <td>1.000000</td>\n",
       "      <td>-0.003486</td>\n",
       "      <td>-0.016447</td>\n",
       "    </tr>\n",
       "    <tr>\n",
       "      <td>growth_rate</td>\n",
       "      <td>0.001270</td>\n",
       "      <td>-0.003486</td>\n",
       "      <td>1.000000</td>\n",
       "      <td>0.014247</td>\n",
       "    </tr>\n",
       "    <tr>\n",
       "      <td>Attrition_rate</td>\n",
       "      <td>-0.015498</td>\n",
       "      <td>-0.016447</td>\n",
       "      <td>0.014247</td>\n",
       "      <td>1.000000</td>\n",
       "    </tr>\n",
       "  </tbody>\n",
       "</table>\n",
       "</div>"
      ],
      "text/plain": [
       "                      Age  Time_of_service  growth_rate  Attrition_rate\n",
       "Age              1.000000         0.918853     0.001270       -0.015498\n",
       "Time_of_service  0.918853         1.000000    -0.003486       -0.016447\n",
       "growth_rate      0.001270        -0.003486     1.000000        0.014247\n",
       "Attrition_rate  -0.015498        -0.016447     0.014247        1.000000"
      ]
     },
     "execution_count": 135,
     "metadata": {},
     "output_type": "execute_result"
    }
   ],
   "source": [
    "# Getting correlation among continuous variables\n",
    "train_data[[\"Age\",\"Time_of_service\",\"growth_rate\",\"Attrition_rate\"]].corr()"
   ]
  },
  {
   "cell_type": "markdown",
   "metadata": {},
   "source": [
    "There is a high level of correlation between Age and Time_of_Service . So we can fill null values in Age according to the Time_of_Service and we can also fill the null values in Time_of_service according to the age."
   ]
  },
  {
   "cell_type": "code",
   "execution_count": 136,
   "metadata": {},
   "outputs": [],
   "source": [
    "# Fill NA in Time_of_Service Column according to the age\n",
    "\n",
    "# Train Data\n",
    "dict_train = {}\n",
    "unique_list = sorted(train_data_copy[\"Age\"].unique().astype(\"int64\"))\n",
    "for i in np.arange(len(unique_list)-1):\n",
    "    dict_train[unique_list[i+1]] = train_data_copy[train_data_copy[\"Age\"] == unique_list[i+1]][\"Time_of_service\"].mode()[0].astype(\"int64\")\n",
    "train_data[\"Time_of_service\"] = train_data[\"Time_of_service\"].fillna(value=train_data[\"Age\"].apply(lambda x: dict_train.get(x)))\n",
    "\n",
    "#Test Data\n",
    "dict_test = {}\n",
    "unique_list = sorted(test_data_copy[\"Age\"].unique().astype(\"int64\"))\n",
    "for i in np.arange(len(unique_list)-1):\n",
    "    dict_test[unique_list[i+1]] = test_data_copy[test_data_copy[\"Age\"] == unique_list[i+1]][\"Time_of_service\"].mode()[0].astype(\"int64\") \n",
    "test_data[\"Time_of_service\"] = test_data[\"Time_of_service\"].fillna(value=test_data[\"Age\"].apply(lambda x: dict_test.get(x)))\n"
   ]
  },
  {
   "cell_type": "code",
   "execution_count": 137,
   "metadata": {},
   "outputs": [],
   "source": [
    "# Fill NA in Age Column accoring to the Time_of_Service\n",
    "\n",
    "# Train Data\n",
    "dict_train = {}\n",
    "unique_list = sorted(train_data_copy[\"Time_of_service\"].unique().astype(\"int64\"))\n",
    "\n",
    "for i in np.arange(len(unique_list)-1):\n",
    "    dict_train[unique_list[i+1]] = train_data_copy[train_data_copy[\"Time_of_service\"] == unique_list[i+1]][\"Age\"].mode()[0].astype(\"int64\")\n",
    "train_data[\"Age\"] = train_data[\"Age\"].fillna(value=train_data[\"Time_of_service\"].apply(lambda x: dict_train.get(x)))\n",
    "\n",
    "#Test Data\n",
    "dict_test = {}\n",
    "unique_list = sorted(test_data_copy[\"Time_of_service\"].unique().astype(\"int64\"))\n",
    "for i in np.arange(len(unique_list)-1):\n",
    "    dict_test[unique_list[i+1]] = test_data_copy[test_data_copy[\"Time_of_service\"] == unique_list[i+1]][\"Age\"].mode()[0].astype(\"int64\") \n",
    "test_data[\"Age\"] = test_data[\"Age\"].fillna(value=test_data[\"Time_of_service\"].apply(lambda x: dict_test.get(x)))\n"
   ]
  },
  {
   "cell_type": "code",
   "execution_count": 138,
   "metadata": {},
   "outputs": [
    {
     "data": {
      "text/plain": [
       "VAR4                         656\n",
       "VAR2                         577\n",
       "Work_Life_balance             11\n",
       "Pay_Scale                      9\n",
       "Age                            7\n",
       "Time_of_service                7\n",
       "Attrition_rate                 0\n",
       "Time_since_promotion           0\n",
       "Gender                         0\n",
       "Education_Level                0\n",
       "Relationship_Status            0\n",
       "Hometown                       0\n",
       "Unit                           0\n",
       "Decision_skill_possess         0\n",
       "Travel_Rate                    0\n",
       "growth_rate                    0\n",
       "VAR7                           0\n",
       "Post_Level                     0\n",
       "Compensation_and_Benefits      0\n",
       "VAR1                           0\n",
       "VAR3                           0\n",
       "VAR5                           0\n",
       "VAR6                           0\n",
       "Employee_ID                    0\n",
       "dtype: int64"
      ]
     },
     "execution_count": 138,
     "metadata": {},
     "output_type": "execute_result"
    }
   ],
   "source": [
    "# Checking null values in the training dataset\n",
    "train_data.isnull().sum().sort_values(ascending =False)"
   ]
  },
  {
   "cell_type": "markdown",
   "metadata": {},
   "source": [
    "There are 7 records in the data which have null in both Age and Time_of_service variable so I am going to replce these records with their median value"
   ]
  },
  {
   "cell_type": "code",
   "execution_count": 139,
   "metadata": {},
   "outputs": [],
   "source": [
    "# Replacing Null values with Median values\n",
    "#Train data\n",
    "\n",
    "train_data[\"Age\"].fillna(train_data[\"Age\"].median(), axis=0, inplace=True)\n",
    "train_data[\"Time_of_service\"].fillna(train_data[\"Time_of_service\"].median(), axis=0, inplace=True)\n",
    "train_data[\"Work_Life_balance\"].fillna(train_data[\"Work_Life_balance\"].median(), axis=0, inplace=True)\n",
    "train_data[\"Pay_Scale\"].fillna(train_data[\"Pay_Scale\"].median(), axis=0, inplace=True)\n",
    "train_data[\"VAR2\"].fillna(train_data[\"VAR2\"].median(), axis=0, inplace=True)\n",
    "train_data[\"VAR4\"].fillna(train_data[\"VAR4\"].median(), axis=0, inplace=True)\n",
    "\n",
    "# Test data\n",
    "test_data[\"Age\"].fillna(test_data[\"Age\"].median(), axis=0, inplace=True)\n",
    "test_data[\"Time_of_service\"].fillna(test_data[\"Time_of_service\"].median(), axis=0, inplace=True)\n",
    "test_data[\"Work_Life_balance\"].fillna(test_data[\"Work_Life_balance\"].median(), axis=0, inplace=True)\n",
    "test_data[\"Pay_Scale\"].fillna(test_data[\"Pay_Scale\"].median(), axis=0, inplace=True)\n",
    "test_data[\"VAR2\"].fillna(test_data[\"VAR2\"].median(), axis=0, inplace=True)\n",
    "test_data[\"VAR4\"].fillna(test_data[\"VAR4\"].median(), axis=0, inplace=True)"
   ]
  },
  {
   "cell_type": "code",
   "execution_count": 140,
   "metadata": {},
   "outputs": [
    {
     "data": {
      "text/plain": [
       "Employee_ID                   object\n",
       "Gender                        object\n",
       "Age                          float64\n",
       "Education_Level                int64\n",
       "Relationship_Status           object\n",
       "Hometown                      object\n",
       "Unit                          object\n",
       "Decision_skill_possess        object\n",
       "Time_of_service              float64\n",
       "Time_since_promotion           int64\n",
       "growth_rate                    int64\n",
       "Travel_Rate                    int64\n",
       "Post_Level                     int64\n",
       "Pay_Scale                    float64\n",
       "Compensation_and_Benefits     object\n",
       "Work_Life_balance            float64\n",
       "VAR1                           int64\n",
       "VAR2                         float64\n",
       "VAR3                         float64\n",
       "VAR4                         float64\n",
       "VAR5                           int64\n",
       "VAR6                           int64\n",
       "VAR7                           int64\n",
       "Attrition_rate               float64\n",
       "dtype: object"
      ]
     },
     "execution_count": 140,
     "metadata": {},
     "output_type": "execute_result"
    }
   ],
   "source": [
    "train_data.dtypes"
   ]
  },
  {
   "cell_type": "code",
   "execution_count": 141,
   "metadata": {},
   "outputs": [],
   "source": [
    "# Convert Floating value into integer\n",
    "train_data[\"Age\"] = train_data[\"Age\"].astype(\"int64\")\n",
    "train_data[\"Time_of_service\"] = train_data[\"Time_of_service\"].astype(\"int64\")\n",
    "train_data[\"Pay_Scale\"] = train_data[\"Pay_Scale\"].astype(\"int64\")\n",
    "train_data[\"Work_Life_balance\"] = train_data[\"Work_Life_balance\"].astype(\"int64\")\n",
    "\n",
    "test_data[\"Age\"] = test_data[\"Age\"].astype(\"int64\")\n",
    "test_data[\"Time_of_service\"] = test_data[\"Time_of_service\"].astype(\"int64\")\n",
    "test_data[\"Pay_Scale\"] = test_data[\"Pay_Scale\"].astype(\"int64\")\n",
    "test_data[\"Work_Life_balance\"] = test_data[\"Work_Life_balance\"].astype(\"int64\")"
   ]
  },
  {
   "cell_type": "code",
   "execution_count": 142,
   "metadata": {},
   "outputs": [
    {
     "data": {
      "image/png": "[encoded data removed]",
      "text/plain": [
       "<Figure size 1296x432 with 3 Axes>"
      ]
     },
     "metadata": {
      "needs_background": "light"
     },
     "output_type": "display_data"
    }
   ],
   "source": [
    "fig , ax = plt.subplots(nrows=1, ncols=3,squeeze=False, figsize =(18,6))\n",
    "sns.distplot(train_data[\"Age\"], ax=ax[0][0])\n",
    "sns.distplot(train_data[\"Time_of_service\"], ax=ax[0][1])\n",
    "sns.distplot(train_data[\"growth_rate\"], ax=ax[0][2])\n",
    "plt.show()"
   ]
  },
  {
   "cell_type": "markdown",
   "metadata": {},
   "source": [
    "None of the above column is normally distributed.Age and Time_of_service are mostly on right skewed"
   ]
  },
  {
   "cell_type": "code",
   "execution_count": 143,
   "metadata": {},
   "outputs": [
    {
     "data": {
      "image/png": "[encoded data removed]",
      "text/plain": [
       "<Figure size 1296x432 with 3 Axes>"
      ]
     },
     "metadata": {
      "needs_background": "light"
     },
     "output_type": "display_data"
    }
   ],
   "source": [
    "fig , ax = plt.subplots(nrows=1, ncols=3,squeeze=False, figsize =(18,6))\n",
    "sns.boxplot(y=train_data[\"Age\"], ax=ax[0][0])\n",
    "sns.boxplot(y=train_data[\"Time_of_service\"], ax=ax[0][1])\n",
    "sns.boxplot(y=train_data[\"growth_rate\"], ax=ax[0][2])\n",
    "plt.show()"
   ]
  },
  {
   "cell_type": "markdown",
   "metadata": {},
   "source": [
    "There is no Outliers in the above boxplots"
   ]
  },
  {
   "cell_type": "code",
   "execution_count": 144,
   "metadata": {},
   "outputs": [
    {
     "data": {
      "image/png": "[encoded data removed]",
      "text/plain": [
       "<Figure size 432x288 with 1 Axes>"
      ]
     },
     "metadata": {
      "needs_background": "light"
     },
     "output_type": "display_data"
    }
   ],
   "source": [
    "from scipy.stats import pearsonr\n",
    "sns.regplot(x=train_data[\"Age\"], y=train_data[\"Attrition_rate\"])\n",
    "plt.show()"
   ]
  },
  {
   "cell_type": "markdown",
   "metadata": {},
   "source": [
    "There is no linear relationship between Age and Attrition Rate"
   ]
  },
  {
   "cell_type": "code",
   "execution_count": 145,
   "metadata": {},
   "outputs": [
    {
     "data": {
      "image/png": "[encoded data removed]",
      "text/plain": [
       "<Figure size 432x288 with 1 Axes>"
      ]
     },
     "metadata": {
      "needs_background": "light"
     },
     "output_type": "display_data"
    }
   ],
   "source": [
    "sns.regplot(x=train_data[\"Time_of_service\"], y=train_data[\"Attrition_rate\"])\n",
    "plt.show()"
   ]
  },
  {
   "cell_type": "markdown",
   "metadata": {},
   "source": [
    "There is no linear relationship between Time_of_service and Attrition Rate"
   ]
  },
  {
   "cell_type": "code",
   "execution_count": 146,
   "metadata": {},
   "outputs": [
    {
     "data": {
      "image/png": "[encoded data removed]",
      "text/plain": [
       "<Figure size 432x288 with 1 Axes>"
      ]
     },
     "metadata": {
      "needs_background": "light"
     },
     "output_type": "display_data"
    }
   ],
   "source": [
    "sns.regplot(x=train_data[\"growth_rate\"], y=train_data[\"Attrition_rate\"])\n",
    "plt.show()"
   ]
  },
  {
   "cell_type": "markdown",
   "metadata": {},
   "source": [
    "There is no linear relationship between Growth Rate and Attrition Rate"
   ]
  },
  {
   "cell_type": "code",
   "execution_count": 147,
   "metadata": {},
   "outputs": [
    {
     "data": {
      "image/png": "[encoded data removed]",
      "text/plain": [
       "<Figure size 1152x1080 with 4 Axes>"
      ]
     },
     "metadata": {
      "needs_background": "light"
     },
     "output_type": "display_data"
    }
   ],
   "source": [
    "k=0\n",
    "cols = [\"Hometown\",\"Unit\",\"Decision_skill_possess\",\"Compensation_and_Benefits\"]\n",
    "fig , ax = plt.subplots(2,2,figsize=(16,15))\n",
    "for i in np.arange(2):\n",
    "    for j in np.arange(2):\n",
    "        chart = sns.countplot(x = train_data[cols[k]], ax=ax[i][j], order=train_data[cols[k]].value_counts().index)\n",
    "        chart.set_xticklabels(rotation=90,labels = chart.get_xticklabels())\n",
    "        k += 1\n",
    "plt.show()        "
   ]
  },
  {
   "cell_type": "markdown",
   "metadata": {},
   "source": [
    "Findings from the above charts->\n",
    "\n",
    "Most of the employees live in Lebanon followed by Springfield and least no. of customers live in Clinton town.\n",
    "\n",
    "Most of the employees work in IT and Logistic unit and least no. of employees works in security unit\n",
    "\n",
    "No. of employees who possess Conceptual , Analytical , Directive and Behavioral skills are almost equal\n",
    "\n",
    "Most of the employees got Type2 and Type3 benefits"
   ]
  },
  {
   "cell_type": "code",
   "execution_count": 148,
   "metadata": {},
   "outputs": [
    {
     "data": {
      "image/png": "[encoded data removed]",
      "text/plain": [
       "<Figure size 1080x432 with 2 Axes>"
      ]
     },
     "metadata": {
      "needs_background": "light"
     },
     "output_type": "display_data"
    }
   ],
   "source": [
    "fig , ax = plt.subplots(1,2,figsize=(15,6), squeeze=False)\n",
    "sns.countplot(x = train_data[\"Gender\"], ax=ax[0][0])\n",
    "sns.countplot(x = train_data[\"Relationship_Status\"], ax=ax[0][1])\n",
    "plt.show()"
   ]
  },
  {
   "cell_type": "markdown",
   "metadata": {},
   "source": [
    "There are more number of Female employee in the organisation than male employee. Also Number of Married employees is more than the no. of Single employees."
   ]
  },
  {
   "cell_type": "code",
   "execution_count": 149,
   "metadata": {},
   "outputs": [
    {
     "data": {
      "image/png": "[encoded data removed]",
      "text/plain": [
       "<Figure size 1152x864 with 4 Axes>"
      ]
     },
     "metadata": {
      "needs_background": "light"
     },
     "output_type": "display_data"
    }
   ],
   "source": [
    "k=0\n",
    "cols = [\"Education_Level\",\"Travel_Rate\",\"Post_Level\",\"Work_Life_balance\"]\n",
    "fig , ax = plt.subplots(2,2,figsize=(16,12))\n",
    "for i in np.arange(2):\n",
    "    for j in np.arange(2):\n",
    "        chart = sns.countplot(x = train_data[cols[k]], ax=ax[i][j], order=train_data[cols[k]].value_counts().index)\n",
    "        k += 1\n",
    "plt.show()        "
   ]
  },
  {
   "cell_type": "markdown",
   "metadata": {},
   "source": [
    "Most of the employees have education level 3 or 4\n",
    "\n",
    "Most of the employess are working on post level 2 or 3\n",
    "\n",
    "Rating given by most of the employees on work life balance is either 1, 2 or 3"
   ]
  },
  {
   "cell_type": "code",
   "execution_count": 150,
   "metadata": {},
   "outputs": [
    {
     "data": {
      "image/png": "[encoded data removed]",
      "text/plain": [
       "<Figure size 720x432 with 1 Axes>"
      ]
     },
     "metadata": {
      "needs_background": "light"
     },
     "output_type": "display_data"
    }
   ],
   "source": [
    "plt.figure(figsize=(10,6))\n",
    "sns.countplot(x = train_data[\"Pay_Scale\"], order=train_data[\"Pay_Scale\"].value_counts().index)\n",
    "plt.show()"
   ]
  },
  {
   "cell_type": "markdown",
   "metadata": {},
   "source": [
    "The above chart shows the most of the employees in organisation are working on 8th Pay Scale and least number of employees are working on 1st pay scale"
   ]
  },
  {
   "cell_type": "code",
   "execution_count": 151,
   "metadata": {},
   "outputs": [],
   "source": [
    "# Train data\n",
    "train_data[\"Gender\"].replace({\"F\":0,\"M\":1}, inplace=True)\n",
    "train_data[\"Relationship_Status\"].replace({\"Single\":0,\"Married\":1}, inplace=True)\n",
    "\n",
    "# Test Data\n",
    "test_data[\"Gender\"].replace({\"F\":0,\"M\":1}, inplace=True)\n",
    "test_data[\"Relationship_Status\"].replace({\"Single\":0,\"Married\":1}, inplace=True)"
   ]
  },
  {
   "cell_type": "code",
   "execution_count": 152,
   "metadata": {},
   "outputs": [
    {
     "data": {
      "text/html": [
       "<div>\n",
       "<style scoped>\n",
       "    .dataframe tbody tr th:only-of-type {\n",
       "        vertical-align: middle;\n",
       "    }\n",
       "\n",
       "    .dataframe tbody tr th {\n",
       "        vertical-align: top;\n",
       "    }\n",
       "\n",
       "    .dataframe thead th {\n",
       "        text-align: right;\n",
       "    }\n",
       "</style>\n",
       "<table border=\"1\" class=\"dataframe\">\n",
       "  <thead>\n",
       "    <tr style=\"text-align: right;\">\n",
       "      <th></th>\n",
       "      <th>Gender</th>\n",
       "      <th>Age</th>\n",
       "      <th>Education_Level</th>\n",
       "      <th>Relationship_Status</th>\n",
       "      <th>Time_of_service</th>\n",
       "      <th>Time_since_promotion</th>\n",
       "      <th>growth_rate</th>\n",
       "      <th>Travel_Rate</th>\n",
       "      <th>Post_Level</th>\n",
       "      <th>Pay_Scale</th>\n",
       "      <th>Work_Life_balance</th>\n",
       "      <th>VAR1</th>\n",
       "      <th>VAR2</th>\n",
       "      <th>VAR3</th>\n",
       "      <th>VAR4</th>\n",
       "      <th>VAR5</th>\n",
       "      <th>VAR6</th>\n",
       "      <th>VAR7</th>\n",
       "      <th>Attrition_rate</th>\n",
       "    </tr>\n",
       "  </thead>\n",
       "  <tbody>\n",
       "    <tr>\n",
       "      <td>Gender</td>\n",
       "      <td>1.000000</td>\n",
       "      <td>-0.006678</td>\n",
       "      <td>-0.007127</td>\n",
       "      <td>-0.008817</td>\n",
       "      <td>-0.002854</td>\n",
       "      <td>-0.020346</td>\n",
       "      <td>-0.011666</td>\n",
       "      <td>0.006566</td>\n",
       "      <td>0.003734</td>\n",
       "      <td>-0.004958</td>\n",
       "      <td>-0.003546</td>\n",
       "      <td>-0.005024</td>\n",
       "      <td>0.002907</td>\n",
       "      <td>-0.000272</td>\n",
       "      <td>-0.002937</td>\n",
       "      <td>0.015351</td>\n",
       "      <td>0.009894</td>\n",
       "      <td>0.002916</td>\n",
       "      <td>0.028544</td>\n",
       "    </tr>\n",
       "    <tr>\n",
       "      <td>Age</td>\n",
       "      <td>-0.006678</td>\n",
       "      <td>1.000000</td>\n",
       "      <td>-0.009658</td>\n",
       "      <td>0.002643</td>\n",
       "      <td>0.919627</td>\n",
       "      <td>0.147321</td>\n",
       "      <td>-0.001883</td>\n",
       "      <td>0.011040</td>\n",
       "      <td>-0.002763</td>\n",
       "      <td>0.014425</td>\n",
       "      <td>0.005670</td>\n",
       "      <td>0.008333</td>\n",
       "      <td>0.003600</td>\n",
       "      <td>0.006966</td>\n",
       "      <td>-0.000074</td>\n",
       "      <td>-0.005145</td>\n",
       "      <td>-0.000272</td>\n",
       "      <td>0.003218</td>\n",
       "      <td>-0.012113</td>\n",
       "    </tr>\n",
       "    <tr>\n",
       "      <td>Education_Level</td>\n",
       "      <td>-0.007127</td>\n",
       "      <td>-0.009658</td>\n",
       "      <td>1.000000</td>\n",
       "      <td>0.000529</td>\n",
       "      <td>-0.013669</td>\n",
       "      <td>-0.002077</td>\n",
       "      <td>0.002991</td>\n",
       "      <td>-0.017690</td>\n",
       "      <td>0.009986</td>\n",
       "      <td>0.006830</td>\n",
       "      <td>-0.015098</td>\n",
       "      <td>-0.002185</td>\n",
       "      <td>-0.010076</td>\n",
       "      <td>-0.009689</td>\n",
       "      <td>0.004731</td>\n",
       "      <td>0.005444</td>\n",
       "      <td>0.009195</td>\n",
       "      <td>0.012909</td>\n",
       "      <td>-0.008143</td>\n",
       "    </tr>\n",
       "    <tr>\n",
       "      <td>Relationship_Status</td>\n",
       "      <td>-0.008817</td>\n",
       "      <td>0.002643</td>\n",
       "      <td>0.000529</td>\n",
       "      <td>1.000000</td>\n",
       "      <td>-0.002818</td>\n",
       "      <td>0.005071</td>\n",
       "      <td>-0.008672</td>\n",
       "      <td>-0.004016</td>\n",
       "      <td>-0.015647</td>\n",
       "      <td>-0.008336</td>\n",
       "      <td>0.005449</td>\n",
       "      <td>-0.008051</td>\n",
       "      <td>0.016682</td>\n",
       "      <td>-0.011275</td>\n",
       "      <td>-0.021183</td>\n",
       "      <td>0.012621</td>\n",
       "      <td>0.001844</td>\n",
       "      <td>-0.020221</td>\n",
       "      <td>-0.009107</td>\n",
       "    </tr>\n",
       "    <tr>\n",
       "      <td>Time_of_service</td>\n",
       "      <td>-0.002854</td>\n",
       "      <td>0.919627</td>\n",
       "      <td>-0.013669</td>\n",
       "      <td>-0.002818</td>\n",
       "      <td>1.000000</td>\n",
       "      <td>0.133757</td>\n",
       "      <td>-0.003707</td>\n",
       "      <td>0.006982</td>\n",
       "      <td>-0.001594</td>\n",
       "      <td>0.018475</td>\n",
       "      <td>-0.000982</td>\n",
       "      <td>0.006411</td>\n",
       "      <td>0.002990</td>\n",
       "      <td>0.005630</td>\n",
       "      <td>-0.003303</td>\n",
       "      <td>0.000059</td>\n",
       "      <td>0.006773</td>\n",
       "      <td>0.005882</td>\n",
       "      <td>-0.017650</td>\n",
       "    </tr>\n",
       "    <tr>\n",
       "      <td>Time_since_promotion</td>\n",
       "      <td>-0.020346</td>\n",
       "      <td>0.147321</td>\n",
       "      <td>-0.002077</td>\n",
       "      <td>0.005071</td>\n",
       "      <td>0.133757</td>\n",
       "      <td>1.000000</td>\n",
       "      <td>0.014147</td>\n",
       "      <td>-0.012061</td>\n",
       "      <td>-0.008851</td>\n",
       "      <td>-0.008892</td>\n",
       "      <td>-0.007459</td>\n",
       "      <td>-0.002873</td>\n",
       "      <td>0.004133</td>\n",
       "      <td>-0.002783</td>\n",
       "      <td>-0.003029</td>\n",
       "      <td>0.000563</td>\n",
       "      <td>0.017264</td>\n",
       "      <td>0.005173</td>\n",
       "      <td>0.013880</td>\n",
       "    </tr>\n",
       "    <tr>\n",
       "      <td>growth_rate</td>\n",
       "      <td>-0.011666</td>\n",
       "      <td>-0.001883</td>\n",
       "      <td>0.002991</td>\n",
       "      <td>-0.008672</td>\n",
       "      <td>-0.003707</td>\n",
       "      <td>0.014147</td>\n",
       "      <td>1.000000</td>\n",
       "      <td>0.008460</td>\n",
       "      <td>-0.006887</td>\n",
       "      <td>-0.004142</td>\n",
       "      <td>-0.018092</td>\n",
       "      <td>0.001351</td>\n",
       "      <td>0.010594</td>\n",
       "      <td>0.010991</td>\n",
       "      <td>0.020005</td>\n",
       "      <td>-0.015122</td>\n",
       "      <td>-0.005860</td>\n",
       "      <td>-0.017993</td>\n",
       "      <td>0.014247</td>\n",
       "    </tr>\n",
       "    <tr>\n",
       "      <td>Travel_Rate</td>\n",
       "      <td>0.006566</td>\n",
       "      <td>0.011040</td>\n",
       "      <td>-0.017690</td>\n",
       "      <td>-0.004016</td>\n",
       "      <td>0.006982</td>\n",
       "      <td>-0.012061</td>\n",
       "      <td>0.008460</td>\n",
       "      <td>1.000000</td>\n",
       "      <td>0.021299</td>\n",
       "      <td>-0.011678</td>\n",
       "      <td>0.004281</td>\n",
       "      <td>0.023898</td>\n",
       "      <td>0.007772</td>\n",
       "      <td>-0.009019</td>\n",
       "      <td>-0.005177</td>\n",
       "      <td>-0.003866</td>\n",
       "      <td>-0.012280</td>\n",
       "      <td>-0.006271</td>\n",
       "      <td>-0.012608</td>\n",
       "    </tr>\n",
       "    <tr>\n",
       "      <td>Post_Level</td>\n",
       "      <td>0.003734</td>\n",
       "      <td>-0.002763</td>\n",
       "      <td>0.009986</td>\n",
       "      <td>-0.015647</td>\n",
       "      <td>-0.001594</td>\n",
       "      <td>-0.008851</td>\n",
       "      <td>-0.006887</td>\n",
       "      <td>0.021299</td>\n",
       "      <td>1.000000</td>\n",
       "      <td>0.022375</td>\n",
       "      <td>-0.014595</td>\n",
       "      <td>-0.008458</td>\n",
       "      <td>-0.006379</td>\n",
       "      <td>0.010387</td>\n",
       "      <td>-0.012055</td>\n",
       "      <td>0.013008</td>\n",
       "      <td>0.002765</td>\n",
       "      <td>-0.003397</td>\n",
       "      <td>0.016402</td>\n",
       "    </tr>\n",
       "    <tr>\n",
       "      <td>Pay_Scale</td>\n",
       "      <td>-0.004958</td>\n",
       "      <td>0.014425</td>\n",
       "      <td>0.006830</td>\n",
       "      <td>-0.008336</td>\n",
       "      <td>0.018475</td>\n",
       "      <td>-0.008892</td>\n",
       "      <td>-0.004142</td>\n",
       "      <td>-0.011678</td>\n",
       "      <td>0.022375</td>\n",
       "      <td>1.000000</td>\n",
       "      <td>-0.022845</td>\n",
       "      <td>0.011349</td>\n",
       "      <td>0.006299</td>\n",
       "      <td>0.003378</td>\n",
       "      <td>-0.010818</td>\n",
       "      <td>0.018071</td>\n",
       "      <td>-0.012316</td>\n",
       "      <td>0.002379</td>\n",
       "      <td>-0.015221</td>\n",
       "    </tr>\n",
       "    <tr>\n",
       "      <td>Work_Life_balance</td>\n",
       "      <td>-0.003546</td>\n",
       "      <td>0.005670</td>\n",
       "      <td>-0.015098</td>\n",
       "      <td>0.005449</td>\n",
       "      <td>-0.000982</td>\n",
       "      <td>-0.007459</td>\n",
       "      <td>-0.018092</td>\n",
       "      <td>0.004281</td>\n",
       "      <td>-0.014595</td>\n",
       "      <td>-0.022845</td>\n",
       "      <td>1.000000</td>\n",
       "      <td>-0.021959</td>\n",
       "      <td>-0.001930</td>\n",
       "      <td>0.004425</td>\n",
       "      <td>-0.025819</td>\n",
       "      <td>0.021922</td>\n",
       "      <td>0.003873</td>\n",
       "      <td>0.024121</td>\n",
       "      <td>0.020809</td>\n",
       "    </tr>\n",
       "    <tr>\n",
       "      <td>VAR1</td>\n",
       "      <td>-0.005024</td>\n",
       "      <td>0.008333</td>\n",
       "      <td>-0.002185</td>\n",
       "      <td>-0.008051</td>\n",
       "      <td>0.006411</td>\n",
       "      <td>-0.002873</td>\n",
       "      <td>0.001351</td>\n",
       "      <td>0.023898</td>\n",
       "      <td>-0.008458</td>\n",
       "      <td>0.011349</td>\n",
       "      <td>-0.021959</td>\n",
       "      <td>1.000000</td>\n",
       "      <td>0.001934</td>\n",
       "      <td>-0.003318</td>\n",
       "      <td>0.001391</td>\n",
       "      <td>0.007904</td>\n",
       "      <td>-0.002771</td>\n",
       "      <td>0.009355</td>\n",
       "      <td>-0.008073</td>\n",
       "    </tr>\n",
       "    <tr>\n",
       "      <td>VAR2</td>\n",
       "      <td>0.002907</td>\n",
       "      <td>0.003600</td>\n",
       "      <td>-0.010076</td>\n",
       "      <td>0.016682</td>\n",
       "      <td>0.002990</td>\n",
       "      <td>0.004133</td>\n",
       "      <td>0.010594</td>\n",
       "      <td>0.007772</td>\n",
       "      <td>-0.006379</td>\n",
       "      <td>0.006299</td>\n",
       "      <td>-0.001930</td>\n",
       "      <td>0.001934</td>\n",
       "      <td>1.000000</td>\n",
       "      <td>0.011873</td>\n",
       "      <td>0.012662</td>\n",
       "      <td>0.001820</td>\n",
       "      <td>0.004384</td>\n",
       "      <td>0.003021</td>\n",
       "      <td>-0.022751</td>\n",
       "    </tr>\n",
       "    <tr>\n",
       "      <td>VAR3</td>\n",
       "      <td>-0.000272</td>\n",
       "      <td>0.006966</td>\n",
       "      <td>-0.009689</td>\n",
       "      <td>-0.011275</td>\n",
       "      <td>0.005630</td>\n",
       "      <td>-0.002783</td>\n",
       "      <td>0.010991</td>\n",
       "      <td>-0.009019</td>\n",
       "      <td>0.010387</td>\n",
       "      <td>0.003378</td>\n",
       "      <td>0.004425</td>\n",
       "      <td>-0.003318</td>\n",
       "      <td>0.011873</td>\n",
       "      <td>1.000000</td>\n",
       "      <td>-0.007694</td>\n",
       "      <td>-0.003399</td>\n",
       "      <td>0.005096</td>\n",
       "      <td>0.008390</td>\n",
       "      <td>0.001245</td>\n",
       "    </tr>\n",
       "    <tr>\n",
       "      <td>VAR4</td>\n",
       "      <td>-0.002937</td>\n",
       "      <td>-0.000074</td>\n",
       "      <td>0.004731</td>\n",
       "      <td>-0.021183</td>\n",
       "      <td>-0.003303</td>\n",
       "      <td>-0.003029</td>\n",
       "      <td>0.020005</td>\n",
       "      <td>-0.005177</td>\n",
       "      <td>-0.012055</td>\n",
       "      <td>-0.010818</td>\n",
       "      <td>-0.025819</td>\n",
       "      <td>0.001391</td>\n",
       "      <td>0.012662</td>\n",
       "      <td>-0.007694</td>\n",
       "      <td>1.000000</td>\n",
       "      <td>-0.004703</td>\n",
       "      <td>0.001698</td>\n",
       "      <td>-0.016638</td>\n",
       "      <td>-0.013364</td>\n",
       "    </tr>\n",
       "    <tr>\n",
       "      <td>VAR5</td>\n",
       "      <td>0.015351</td>\n",
       "      <td>-0.005145</td>\n",
       "      <td>0.005444</td>\n",
       "      <td>0.012621</td>\n",
       "      <td>0.000059</td>\n",
       "      <td>0.000563</td>\n",
       "      <td>-0.015122</td>\n",
       "      <td>-0.003866</td>\n",
       "      <td>0.013008</td>\n",
       "      <td>0.018071</td>\n",
       "      <td>0.021922</td>\n",
       "      <td>0.007904</td>\n",
       "      <td>0.001820</td>\n",
       "      <td>-0.003399</td>\n",
       "      <td>-0.004703</td>\n",
       "      <td>1.000000</td>\n",
       "      <td>-0.005412</td>\n",
       "      <td>0.009436</td>\n",
       "      <td>-0.004770</td>\n",
       "    </tr>\n",
       "    <tr>\n",
       "      <td>VAR6</td>\n",
       "      <td>0.009894</td>\n",
       "      <td>-0.000272</td>\n",
       "      <td>0.009195</td>\n",
       "      <td>0.001844</td>\n",
       "      <td>0.006773</td>\n",
       "      <td>0.017264</td>\n",
       "      <td>-0.005860</td>\n",
       "      <td>-0.012280</td>\n",
       "      <td>0.002765</td>\n",
       "      <td>-0.012316</td>\n",
       "      <td>0.003873</td>\n",
       "      <td>-0.002771</td>\n",
       "      <td>0.004384</td>\n",
       "      <td>0.005096</td>\n",
       "      <td>0.001698</td>\n",
       "      <td>-0.005412</td>\n",
       "      <td>1.000000</td>\n",
       "      <td>0.011908</td>\n",
       "      <td>-0.003130</td>\n",
       "    </tr>\n",
       "    <tr>\n",
       "      <td>VAR7</td>\n",
       "      <td>0.002916</td>\n",
       "      <td>0.003218</td>\n",
       "      <td>0.012909</td>\n",
       "      <td>-0.020221</td>\n",
       "      <td>0.005882</td>\n",
       "      <td>0.005173</td>\n",
       "      <td>-0.017993</td>\n",
       "      <td>-0.006271</td>\n",
       "      <td>-0.003397</td>\n",
       "      <td>0.002379</td>\n",
       "      <td>0.024121</td>\n",
       "      <td>0.009355</td>\n",
       "      <td>0.003021</td>\n",
       "      <td>0.008390</td>\n",
       "      <td>-0.016638</td>\n",
       "      <td>0.009436</td>\n",
       "      <td>0.011908</td>\n",
       "      <td>1.000000</td>\n",
       "      <td>-0.015299</td>\n",
       "    </tr>\n",
       "    <tr>\n",
       "      <td>Attrition_rate</td>\n",
       "      <td>0.028544</td>\n",
       "      <td>-0.012113</td>\n",
       "      <td>-0.008143</td>\n",
       "      <td>-0.009107</td>\n",
       "      <td>-0.017650</td>\n",
       "      <td>0.013880</td>\n",
       "      <td>0.014247</td>\n",
       "      <td>-0.012608</td>\n",
       "      <td>0.016402</td>\n",
       "      <td>-0.015221</td>\n",
       "      <td>0.020809</td>\n",
       "      <td>-0.008073</td>\n",
       "      <td>-0.022751</td>\n",
       "      <td>0.001245</td>\n",
       "      <td>-0.013364</td>\n",
       "      <td>-0.004770</td>\n",
       "      <td>-0.003130</td>\n",
       "      <td>-0.015299</td>\n",
       "      <td>1.000000</td>\n",
       "    </tr>\n",
       "  </tbody>\n",
       "</table>\n",
       "</div>"
      ],
      "text/plain": [
       "                        Gender       Age  Education_Level  \\\n",
       "Gender                1.000000 -0.006678        -0.007127   \n",
       "Age                  -0.006678  1.000000        -0.009658   \n",
       "Education_Level      -0.007127 -0.009658         1.000000   \n",
       "Relationship_Status  -0.008817  0.002643         0.000529   \n",
       "Time_of_service      -0.002854  0.919627        -0.013669   \n",
       "Time_since_promotion -0.020346  0.147321        -0.002077   \n",
       "growth_rate          -0.011666 -0.001883         0.002991   \n",
       "Travel_Rate           0.006566  0.011040        -0.017690   \n",
       "Post_Level            0.003734 -0.002763         0.009986   \n",
       "Pay_Scale            -0.004958  0.014425         0.006830   \n",
       "Work_Life_balance    -0.003546  0.005670        -0.015098   \n",
       "VAR1                 -0.005024  0.008333        -0.002185   \n",
       "VAR2                  0.002907  0.003600        -0.010076   \n",
       "VAR3                 -0.000272  0.006966        -0.009689   \n",
       "VAR4                 -0.002937 -0.000074         0.004731   \n",
       "VAR5                  0.015351 -0.005145         0.005444   \n",
       "VAR6                  0.009894 -0.000272         0.009195   \n",
       "VAR7                  0.002916  0.003218         0.012909   \n",
       "Attrition_rate        0.028544 -0.012113        -0.008143   \n",
       "\n",
       "                      Relationship_Status  Time_of_service  \\\n",
       "Gender                          -0.008817        -0.002854   \n",
       "Age                              0.002643         0.919627   \n",
       "Education_Level                  0.000529        -0.013669   \n",
       "Relationship_Status              1.000000        -0.002818   \n",
       "Time_of_service                 -0.002818         1.000000   \n",
       "Time_since_promotion             0.005071         0.133757   \n",
       "growth_rate                     -0.008672        -0.003707   \n",
       "Travel_Rate                     -0.004016         0.006982   \n",
       "Post_Level                      -0.015647        -0.001594   \n",
       "Pay_Scale                       -0.008336         0.018475   \n",
       "Work_Life_balance                0.005449        -0.000982   \n",
       "VAR1                            -0.008051         0.006411   \n",
       "VAR2                             0.016682         0.002990   \n",
       "VAR3                            -0.011275         0.005630   \n",
       "VAR4                            -0.021183        -0.003303   \n",
       "VAR5                             0.012621         0.000059   \n",
       "VAR6                             0.001844         0.006773   \n",
       "VAR7                            -0.020221         0.005882   \n",
       "Attrition_rate                  -0.009107        -0.017650   \n",
       "\n",
       "                      Time_since_promotion  growth_rate  Travel_Rate  \\\n",
       "Gender                           -0.020346    -0.011666     0.006566   \n",
       "Age                               0.147321    -0.001883     0.011040   \n",
       "Education_Level                  -0.002077     0.002991    -0.017690   \n",
       "Relationship_Status               0.005071    -0.008672    -0.004016   \n",
       "Time_of_service                   0.133757    -0.003707     0.006982   \n",
       "Time_since_promotion              1.000000     0.014147    -0.012061   \n",
       "growth_rate                       0.014147     1.000000     0.008460   \n",
       "Travel_Rate                      -0.012061     0.008460     1.000000   \n",
       "Post_Level                       -0.008851    -0.006887     0.021299   \n",
       "Pay_Scale                        -0.008892    -0.004142    -0.011678   \n",
       "Work_Life_balance                -0.007459    -0.018092     0.004281   \n",
       "VAR1                             -0.002873     0.001351     0.023898   \n",
       "VAR2                              0.004133     0.010594     0.007772   \n",
       "VAR3                             -0.002783     0.010991    -0.009019   \n",
       "VAR4                             -0.003029     0.020005    -0.005177   \n",
       "VAR5                              0.000563    -0.015122    -0.003866   \n",
       "VAR6                              0.017264    -0.005860    -0.012280   \n",
       "VAR7                              0.005173    -0.017993    -0.006271   \n",
       "Attrition_rate                    0.013880     0.014247    -0.012608   \n",
       "\n",
       "                      Post_Level  Pay_Scale  Work_Life_balance      VAR1  \\\n",
       "Gender                  0.003734  -0.004958          -0.003546 -0.005024   \n",
       "Age                    -0.002763   0.014425           0.005670  0.008333   \n",
       "Education_Level         0.009986   0.006830          -0.015098 -0.002185   \n",
       "Relationship_Status    -0.015647  -0.008336           0.005449 -0.008051   \n",
       "Time_of_service        -0.001594   0.018475          -0.000982  0.006411   \n",
       "Time_since_promotion   -0.008851  -0.008892          -0.007459 -0.002873   \n",
       "growth_rate            -0.006887  -0.004142          -0.018092  0.001351   \n",
       "Travel_Rate             0.021299  -0.011678           0.004281  0.023898   \n",
       "Post_Level              1.000000   0.022375          -0.014595 -0.008458   \n",
       "Pay_Scale               0.022375   1.000000          -0.022845  0.011349   \n",
       "Work_Life_balance      -0.014595  -0.022845           1.000000 -0.021959   \n",
       "VAR1                   -0.008458   0.011349          -0.021959  1.000000   \n",
       "VAR2                   -0.006379   0.006299          -0.001930  0.001934   \n",
       "VAR3                    0.010387   0.003378           0.004425 -0.003318   \n",
       "VAR4                   -0.012055  -0.010818          -0.025819  0.001391   \n",
       "VAR5                    0.013008   0.018071           0.021922  0.007904   \n",
       "VAR6                    0.002765  -0.012316           0.003873 -0.002771   \n",
       "VAR7                   -0.003397   0.002379           0.024121  0.009355   \n",
       "Attrition_rate          0.016402  -0.015221           0.020809 -0.008073   \n",
       "\n",
       "                          VAR2      VAR3      VAR4      VAR5      VAR6  \\\n",
       "Gender                0.002907 -0.000272 -0.002937  0.015351  0.009894   \n",
       "Age                   0.003600  0.006966 -0.000074 -0.005145 -0.000272   \n",
       "Education_Level      -0.010076 -0.009689  0.004731  0.005444  0.009195   \n",
       "Relationship_Status   0.016682 -0.011275 -0.021183  0.012621  0.001844   \n",
       "Time_of_service       0.002990  0.005630 -0.003303  0.000059  0.006773   \n",
       "Time_since_promotion  0.004133 -0.002783 -0.003029  0.000563  0.017264   \n",
       "growth_rate           0.010594  0.010991  0.020005 -0.015122 -0.005860   \n",
       "Travel_Rate           0.007772 -0.009019 -0.005177 -0.003866 -0.012280   \n",
       "Post_Level           -0.006379  0.010387 -0.012055  0.013008  0.002765   \n",
       "Pay_Scale             0.006299  0.003378 -0.010818  0.018071 -0.012316   \n",
       "Work_Life_balance    -0.001930  0.004425 -0.025819  0.021922  0.003873   \n",
       "VAR1                  0.001934 -0.003318  0.001391  0.007904 -0.002771   \n",
       "VAR2                  1.000000  0.011873  0.012662  0.001820  0.004384   \n",
       "VAR3                  0.011873  1.000000 -0.007694 -0.003399  0.005096   \n",
       "VAR4                  0.012662 -0.007694  1.000000 -0.004703  0.001698   \n",
       "VAR5                  0.001820 -0.003399 -0.004703  1.000000 -0.005412   \n",
       "VAR6                  0.004384  0.005096  0.001698 -0.005412  1.000000   \n",
       "VAR7                  0.003021  0.008390 -0.016638  0.009436  0.011908   \n",
       "Attrition_rate       -0.022751  0.001245 -0.013364 -0.004770 -0.003130   \n",
       "\n",
       "                          VAR7  Attrition_rate  \n",
       "Gender                0.002916        0.028544  \n",
       "Age                   0.003218       -0.012113  \n",
       "Education_Level       0.012909       -0.008143  \n",
       "Relationship_Status  -0.020221       -0.009107  \n",
       "Time_of_service       0.005882       -0.017650  \n",
       "Time_since_promotion  0.005173        0.013880  \n",
       "growth_rate          -0.017993        0.014247  \n",
       "Travel_Rate          -0.006271       -0.012608  \n",
       "Post_Level           -0.003397        0.016402  \n",
       "Pay_Scale             0.002379       -0.015221  \n",
       "Work_Life_balance     0.024121        0.020809  \n",
       "VAR1                  0.009355       -0.008073  \n",
       "VAR2                  0.003021       -0.022751  \n",
       "VAR3                  0.008390        0.001245  \n",
       "VAR4                 -0.016638       -0.013364  \n",
       "VAR5                  0.009436       -0.004770  \n",
       "VAR6                  0.011908       -0.003130  \n",
       "VAR7                  1.000000       -0.015299  \n",
       "Attrition_rate       -0.015299        1.000000  "
      ]
     },
     "execution_count": 152,
     "metadata": {},
     "output_type": "execute_result"
    }
   ],
   "source": [
    "train_data.corr()"
   ]
  },
  {
   "cell_type": "markdown",
   "metadata": {},
   "source": [
    "Correlation value of Target column is very low with each feature column.\n",
    "\n",
    "Correlation Value between Age and Time of Service is 0.92 . Correlation value between Time_since_promotion and Time_of_service is 0.13 . Apart from these ,all the independent variables have very low correlation value themselves"
   ]
  },
  {
   "cell_type": "code",
   "execution_count": 153,
   "metadata": {},
   "outputs": [],
   "source": [
    "# Applying Label Encoder and OneHot Encoding\n",
    "# Train Data\n",
    "train_data= pd.get_dummies(train_data, columns=[\"Hometown\",\"Unit\",\"Decision_skill_possess\",\"Compensation_and_Benefits\"])\n",
    "# Test Data\n",
    "test_data= pd.get_dummies(test_data, columns=[\"Hometown\",\"Unit\",\"Decision_skill_possess\",\"Compensation_and_Benefits\"])"
   ]
  },
  {
   "cell_type": "code",
   "execution_count": 154,
   "metadata": {},
   "outputs": [
    {
     "name": "stdout",
     "output_type": "stream",
     "text": [
      "r value is -0.008073227303011007 for column VAR1 \n",
      "r value is -0.022750996055581053 for column VAR2 \n",
      "r value is 0.0012452364366666861 for column VAR3 \n",
      "r value is -0.013363945231998842 for column VAR4 \n",
      "r value is -0.004769530979202389 for column VAR5 \n",
      "r value is -0.0031299833957783895 for column VAR6 \n",
      "r value is -0.0152990989835192 for column VAR7 \n"
     ]
    }
   ],
   "source": [
    "# Calculating Correlation From VAR1 to VAR7 with Target Column\n",
    "from scipy.stats import pearsonr\n",
    "cols =[\"VAR1\",\"VAR2\",\"VAR3\",\"VAR4\",\"VAR5\",\"VAR6\",\"VAR7\"]\n",
    "for i in np.arange(7):\n",
    "    r , p = pearsonr(train_data[cols[i]],train_data[\"Attrition_rate\"])\n",
    "    print(\"r value is {} for column {} \".format(r,cols[i]))"
   ]
  },
  {
   "cell_type": "markdown",
   "metadata": {},
   "source": [
    "Here r value is very low of all the var from VAR1 to VAR7 with Target column"
   ]
  },
  {
   "cell_type": "code",
   "execution_count": 155,
   "metadata": {},
   "outputs": [],
   "source": [
    "# Multiplying all the variable from VAR1 to VAR7 to create a single variable named \"ALL_VAR\"\n",
    "train_data[\"ALL_VAR\"] = train_data[\"VAR1\"]*train_data[\"VAR2\"]*train_data[\"VAR3\"]*train_data[\"VAR4\"]*train_data[\"VAR5\"]*train_data[\"VAR6\"]*train_data[\"VAR7\"]\n",
    "test_data[\"ALL_VAR\"] = test_data[\"VAR1\"]*test_data[\"VAR2\"]*test_data[\"VAR3\"]*test_data[\"VAR4\"]*test_data[\"VAR5\"]*test_data[\"VAR6\"]*test_data[\"VAR7\"]\n",
    "\n",
    "train_data.drop(labels=[\"VAR1\",\"VAR2\",\"VAR3\",\"VAR4\",\"VAR5\",\"VAR6\",\"VAR7\"], axis=1, inplace=True)\n",
    "test_data.drop(labels=[\"VAR1\",\"VAR2\",\"VAR3\",\"VAR4\",\"VAR5\",\"VAR6\",\"VAR7\"], axis=1, inplace=True)"
   ]
  },
  {
   "cell_type": "code",
   "execution_count": 156,
   "metadata": {},
   "outputs": [],
   "source": [
    "# Dropping Columns Employee_ID\n",
    "train_data.drop(labels=[\"Employee_ID\"],axis=1, inplace=True)\n",
    "#Test data\n",
    "test_data.drop(labels=[\"Employee_ID\"],axis=1, inplace=True)"
   ]
  },
  {
   "cell_type": "code",
   "execution_count": 157,
   "metadata": {},
   "outputs": [],
   "source": [
    "# Making feature and Target column Split\n",
    "\n",
    "X_train = train_data.drop(labels=[\"Attrition_rate\"], axis=1)\n",
    "y_train = train_data[\"Attrition_rate\"]\n",
    "X_test = test_data"
   ]
  },
  {
   "cell_type": "code",
   "execution_count": 158,
   "metadata": {},
   "outputs": [],
   "source": [
    "# Importing sklearn libraries\n",
    "from sklearn.linear_model import LinearRegression\n",
    "from sklearn.metrics import mean_squared_error\n",
    "from sklearn.tree import DecisionTreeRegressor\n",
    "from sklearn.ensemble import RandomForestRegressor , GradientBoostingRegressor\n",
    "from sklearn.model_selection import GridSearchCV\n",
    "from xgboost import XGBRegressor\n",
    "from sklearn.preprocessing import StandardScaler"
   ]
  },
  {
   "cell_type": "code",
   "execution_count": 159,
   "metadata": {},
   "outputs": [],
   "source": [
    "# Scaling the data\n",
    "\n",
    "scaler = StandardScaler()\n",
    "X_train_scale = scaler.fit_transform(X_train)\n",
    "X_test_scale = scaler.transform(X_test)"
   ]
  },
  {
   "cell_type": "markdown",
   "metadata": {},
   "source": [
    "## Linear Regression"
   ]
  },
  {
   "cell_type": "code",
   "execution_count": 160,
   "metadata": {},
   "outputs": [
    {
     "name": "stdout",
     "output_type": "stream",
     "text": [
      "Score on Training set 81.49045802708473\n"
     ]
    }
   ],
   "source": [
    "lr = LinearRegression()\n",
    "lr.fit(X_train_scale, y_train)\n",
    "\n",
    "y_prediction_training = lr.predict(X_train_scale)\n",
    "print(\"Score on Training set\",(1-np.sqrt(mean_squared_error(y_train,y_prediction_training)))*100)"
   ]
  },
  {
   "cell_type": "markdown",
   "metadata": {},
   "source": [
    "Scoring on Test set for linear Regression is  81.16"
   ]
  },
  {
   "cell_type": "markdown",
   "metadata": {},
   "source": [
    "## Decision Tree Regressor"
   ]
  },
  {
   "cell_type": "code",
   "execution_count": 161,
   "metadata": {},
   "outputs": [
    {
     "data": {
      "text/plain": [
       "GridSearchCV(cv=10, error_score='raise-deprecating',\n",
       "             estimator=DecisionTreeRegressor(criterion='mse', max_depth=None,\n",
       "                                             max_features=None,\n",
       "                                             max_leaf_nodes=None,\n",
       "                                             min_impurity_decrease=0.0,\n",
       "                                             min_impurity_split=None,\n",
       "                                             min_samples_leaf=1,\n",
       "                                             min_samples_split=2,\n",
       "                                             min_weight_fraction_leaf=0.0,\n",
       "                                             presort=False, random_state=None,\n",
       "                                             splitter='best'),\n",
       "             iid='warn', n_jobs=None,\n",
       "             param_grid={'max_depth': array([3, 4, 5]),\n",
       "                         'max_features': array([5, 6, 7, 8, 9]),\n",
       "                         'random_state': [106]},\n",
       "             pre_dispatch='2*n_jobs', refit=True, return_train_score=False,\n",
       "             scoring=None, verbose=0)"
      ]
     },
     "execution_count": 161,
     "metadata": {},
     "output_type": "execute_result"
    }
   ],
   "source": [
    "dt_model = DecisionTreeRegressor()\n",
    "parameter = {\"max_depth\" : np.arange(3,6),\n",
    "             \"max_features\": np.arange(5,10),\n",
    "             \"random_state\":[106],\n",
    "            }\n",
    "dt_model = GridSearchCV(estimator=dt_model, param_grid=parameter, cv=10)\n",
    "dt_model.fit(X_train_scale, y_train)"
   ]
  },
  {
   "cell_type": "code",
   "execution_count": 162,
   "metadata": {},
   "outputs": [
    {
     "data": {
      "text/plain": [
       "DecisionTreeRegressor(criterion='mse', max_depth=3, max_features=6,\n",
       "                      max_leaf_nodes=None, min_impurity_decrease=0.0,\n",
       "                      min_impurity_split=None, min_samples_leaf=1,\n",
       "                      min_samples_split=2, min_weight_fraction_leaf=0.0,\n",
       "                      presort=False, random_state=106, splitter='best')"
      ]
     },
     "execution_count": 162,
     "metadata": {},
     "output_type": "execute_result"
    }
   ],
   "source": [
    "dt_model.best_estimator_"
   ]
  },
  {
   "cell_type": "code",
   "execution_count": 163,
   "metadata": {},
   "outputs": [
    {
     "data": {
      "text/plain": [
       "DecisionTreeRegressor(criterion='mse', max_depth=None, max_features=None,\n",
       "                      max_leaf_nodes=None, min_impurity_decrease=0.0,\n",
       "                      min_impurity_split=None, min_samples_leaf=1,\n",
       "                      min_samples_split=2, min_weight_fraction_leaf=0.0,\n",
       "                      presort=False, random_state=105, splitter='best')"
      ]
     },
     "execution_count": 163,
     "metadata": {},
     "output_type": "execute_result"
    }
   ],
   "source": [
    "dt_model = DecisionTreeRegressor(random_state=105)\n",
    "dt_model.fit(X_train_scale, y_train)"
   ]
  },
  {
   "cell_type": "code",
   "execution_count": 164,
   "metadata": {},
   "outputs": [
    {
     "data": {
      "text/html": [
       "<div>\n",
       "<style scoped>\n",
       "    .dataframe tbody tr th:only-of-type {\n",
       "        vertical-align: middle;\n",
       "    }\n",
       "\n",
       "    .dataframe tbody tr th {\n",
       "        vertical-align: top;\n",
       "    }\n",
       "\n",
       "    .dataframe thead th {\n",
       "        text-align: right;\n",
       "    }\n",
       "</style>\n",
       "<table border=\"1\" class=\"dataframe\">\n",
       "  <thead>\n",
       "    <tr style=\"text-align: right;\">\n",
       "      <th></th>\n",
       "      <th>Importance</th>\n",
       "    </tr>\n",
       "  </thead>\n",
       "  <tbody>\n",
       "    <tr>\n",
       "      <td>ALL_VAR</td>\n",
       "      <td>0.165757</td>\n",
       "    </tr>\n",
       "    <tr>\n",
       "      <td>growth_rate</td>\n",
       "      <td>0.091668</td>\n",
       "    </tr>\n",
       "    <tr>\n",
       "      <td>Age</td>\n",
       "      <td>0.084551</td>\n",
       "    </tr>\n",
       "    <tr>\n",
       "      <td>Time_of_service</td>\n",
       "      <td>0.080605</td>\n",
       "    </tr>\n",
       "    <tr>\n",
       "      <td>Education_Level</td>\n",
       "      <td>0.063287</td>\n",
       "    </tr>\n",
       "    <tr>\n",
       "      <td>Pay_Scale</td>\n",
       "      <td>0.059590</td>\n",
       "    </tr>\n",
       "    <tr>\n",
       "      <td>Work_Life_balance</td>\n",
       "      <td>0.036186</td>\n",
       "    </tr>\n",
       "    <tr>\n",
       "      <td>Post_Level</td>\n",
       "      <td>0.034653</td>\n",
       "    </tr>\n",
       "  </tbody>\n",
       "</table>\n",
       "</div>"
      ],
      "text/plain": [
       "                   Importance\n",
       "ALL_VAR              0.165757\n",
       "growth_rate          0.091668\n",
       "Age                  0.084551\n",
       "Time_of_service      0.080605\n",
       "Education_Level      0.063287\n",
       "Pay_Scale            0.059590\n",
       "Work_Life_balance    0.036186\n",
       "Post_Level           0.034653"
      ]
     },
     "execution_count": 164,
     "metadata": {},
     "output_type": "execute_result"
    }
   ],
   "source": [
    "# Checking Top 8 Important Feature by using decision tree feature importance\n",
    "pd.DataFrame(data=dt_model.feature_importances_ , index=X_train.columns, columns=[\"Importance\"]).sort_values(by=\"Importance\", ascending=False).head(8)"
   ]
  },
  {
   "cell_type": "code",
   "execution_count": 165,
   "metadata": {},
   "outputs": [],
   "source": [
    "X_train_new = X_train[[\"growth_rate\",\"Age\",\"Time_of_service\",\"Pay_Scale\",\"ALL_VAR\",\"Work_Life_balance\",\"Education_Level\",\"Time_since_promotion\"]]\n",
    "X_test_new = X_test[[\"growth_rate\",\"Age\",\"Time_of_service\",\"Pay_Scale\",\"ALL_VAR\",\"Work_Life_balance\",\"Education_Level\",\"Time_since_promotion\"]]"
   ]
  },
  {
   "cell_type": "code",
   "execution_count": 166,
   "metadata": {},
   "outputs": [],
   "source": [
    "# Scaling new dataset with 8 columns\n",
    "scaler = StandardScaler()\n",
    "X_train_new = scaler.fit_transform(X_train_new)\n",
    "X_test_new = scaler.transform(X_test_new)"
   ]
  },
  {
   "cell_type": "code",
   "execution_count": 167,
   "metadata": {},
   "outputs": [
    {
     "name": "stdout",
     "output_type": "stream",
     "text": [
      "Score on Training set 81.48319083174323\n"
     ]
    }
   ],
   "source": [
    "dt_model = DecisionTreeRegressor(max_depth=3,max_features=6,random_state=106)\n",
    "dt_model.fit(X_train_new, y_train)\n",
    "\n",
    "y_prediction_training = dt_model.predict(X_train_new)\n",
    "print(\"Score on Training set\",(1-np.sqrt(mean_squared_error(y_train,y_prediction_training)))*100)"
   ]
  },
  {
   "cell_type": "markdown",
   "metadata": {},
   "source": [
    "Score on Test set 81.29"
   ]
  },
  {
   "cell_type": "markdown",
   "metadata": {},
   "source": [
    "## Random Forest Regressor"
   ]
  },
  {
   "cell_type": "code",
   "execution_count": 168,
   "metadata": {},
   "outputs": [
    {
     "name": "stdout",
     "output_type": "stream",
     "text": [
      "Score on Training set 81.52088061644614\n"
     ]
    }
   ],
   "source": [
    "rf_model = RandomForestRegressor(n_estimators=150, max_depth=3, max_features=6, random_state=106)\n",
    "rf_model.fit(X_train_new,y_train) \n",
    "\n",
    "y_prediction_training = rf_model.predict(X_train_new)\n",
    "print(\"Score on Training set\",(1-np.sqrt(mean_squared_error(y_train,y_prediction_training)))*100)"
   ]
  },
  {
   "cell_type": "markdown",
   "metadata": {},
   "source": [
    "Score on Test Set 81.28"
   ]
  },
  {
   "cell_type": "markdown",
   "metadata": {},
   "source": [
    "## Gradient Boosting Regressor"
   ]
  },
  {
   "cell_type": "code",
   "execution_count": 169,
   "metadata": {},
   "outputs": [
    {
     "name": "stdout",
     "output_type": "stream",
     "text": [
      "Score on Training set 82.16996468063482\n"
     ]
    }
   ],
   "source": [
    "GBR = GradientBoostingRegressor(learning_rate=0.055,alpha=0.9,max_depth=3,max_features=6,n_estimators=260,\n",
    "                                random_state=106)\n",
    "GBR.fit(X_train_new,y_train)\n",
    "\n",
    "y_prediction_training = GBR.predict(X_train_new)\n",
    "print(\"Score on Training set\",(1-np.sqrt(mean_squared_error(y_train,y_prediction_training)))*100)"
   ]
  },
  {
   "cell_type": "markdown",
   "metadata": {},
   "source": [
    "Score on Test data 81.342"
   ]
  },
  {
   "cell_type": "markdown",
   "metadata": {},
   "source": [
    "## XGB Regressor"
   ]
  },
  {
   "cell_type": "code",
   "execution_count": 172,
   "metadata": {},
   "outputs": [
    {
     "name": "stdout",
     "output_type": "stream",
     "text": [
      "Score on Training set 82.07131740166653\n"
     ]
    }
   ],
   "source": [
    "from xgboost import XGBRegressor\n",
    "XGB_Regressor = XGBRegressor(booster='gbtree', colsample_bytree=0.50,\n",
    "             colsample_bylevel=1,colsample_bynode=1, gamma=0,importance_type='gain',\n",
    "             learning_rate=0.0516, max_delta_step=0,\n",
    "             max_depth=3, missing=None, n_estimators=280,\n",
    "             n_jobs=1, nthread=None, objective='reg:squarederror', random_state=106,\n",
    "             scale_pos_weight=1, seed=None,\n",
    "             silent=None, subsample=1, verbosity=1)\n",
    "XGB_Regressor.fit(X_train_new, y_train)\n",
    "\n",
    "y_prediction_training = XGB_Regressor.predict(X_train_new)\n",
    "print(\"Score on Training set\",(1-np.sqrt(mean_squared_error(y_train,y_prediction_training)))*100)"
   ]
  },
  {
   "cell_type": "code",
   "execution_count": 173,
   "metadata": {},
   "outputs": [],
   "source": [
    "y_prediction = XGB_Regressor.predict(X_test_new)\n",
    "y_test = pd.DataFrame(data=y_prediction,columns=[\"Attrition_rate\"], index=test_data_copy[\"Employee_ID\"])\n",
    "y_test.to_csv(\"sample_submission.csv\") "
   ]
  },
  {
   "cell_type": "markdown",
   "metadata": {},
   "source": [
    "Score on Test Set 81.385"
   ]
  }
 ],
 "metadata": {
  "kernelspec": {
   "display_name": "Python 3",
   "language": "python",
   "name": "python3"
  },
  "language_info": {
   "codemirror_mode": {
    "name": "ipython",
    "version": 3
   },
   "file_extension": ".py",
   "mimetype": "text/x-python",
   "name": "python",
   "nbconvert_exporter": "python",
   "pygments_lexer": "ipython3",
   "version": "3.7.4"
  }
 },
 "nbformat": 4,
 "nbformat_minor": 2
}
